{
 "cells": [
  {
   "cell_type": "code",
   "execution_count": 1,
   "metadata": {},
   "outputs": [
    {
     "ename": "ModuleNotFoundError",
     "evalue": "No module named 'tensorflow'",
     "output_type": "error",
     "traceback": [
      "\u001b[1;31m---------------------------------------------------------------------------\u001b[0m",
      "\u001b[1;31mModuleNotFoundError\u001b[0m                       Traceback (most recent call last)",
      "\u001b[1;32m<ipython-input-1-2e1df6550195>\u001b[0m in \u001b[0;36m<module>\u001b[1;34m\u001b[0m\n\u001b[0;32m      2\u001b[0m \u001b[1;32mimport\u001b[0m \u001b[0mmatplotlib\u001b[0m\u001b[1;33m.\u001b[0m\u001b[0mpyplot\u001b[0m \u001b[1;32mas\u001b[0m \u001b[0mplt\u001b[0m\u001b[1;33m\u001b[0m\u001b[1;33m\u001b[0m\u001b[0m\n\u001b[0;32m      3\u001b[0m \u001b[1;32mimport\u001b[0m \u001b[0mos\u001b[0m\u001b[1;33m\u001b[0m\u001b[1;33m\u001b[0m\u001b[0m\n\u001b[1;32m----> 4\u001b[1;33m \u001b[1;32mimport\u001b[0m \u001b[0mtensorflow\u001b[0m \u001b[1;32mas\u001b[0m \u001b[0mtf\u001b[0m\u001b[1;33m\u001b[0m\u001b[1;33m\u001b[0m\u001b[0m\n\u001b[0m\u001b[0;32m      5\u001b[0m \u001b[1;32mfrom\u001b[0m \u001b[0mtensorflow\u001b[0m\u001b[1;33m.\u001b[0m\u001b[0mkeras\u001b[0m\u001b[1;33m.\u001b[0m\u001b[0mpreprocessing\u001b[0m\u001b[1;33m.\u001b[0m\u001b[0mimage\u001b[0m \u001b[1;32mimport\u001b[0m \u001b[0mImageDataGenerator\u001b[0m\u001b[1;33m\u001b[0m\u001b[1;33m\u001b[0m\u001b[0m\n\u001b[0;32m      6\u001b[0m \u001b[1;32mfrom\u001b[0m \u001b[0mtensorflow\u001b[0m\u001b[1;33m.\u001b[0m\u001b[0mkeras\u001b[0m\u001b[1;33m.\u001b[0m\u001b[0mlayers\u001b[0m \u001b[1;32mimport\u001b[0m \u001b[0mDense\u001b[0m\u001b[1;33m,\u001b[0m \u001b[0mInput\u001b[0m\u001b[1;33m,\u001b[0m \u001b[0mDropout\u001b[0m\u001b[1;33m,\u001b[0m\u001b[0mFlatten\u001b[0m\u001b[1;33m,\u001b[0m \u001b[0mConv2D\u001b[0m\u001b[1;33m\u001b[0m\u001b[1;33m\u001b[0m\u001b[0m\n",
      "\u001b[1;31mModuleNotFoundError\u001b[0m: No module named 'tensorflow'"
     ]
    }
   ],
   "source": [
    "import numpy as np\n",
    "import matplotlib.pyplot as plt\n",
    "import os\n",
    "import tensorflow as tf\n",
    "from tensorflow.keras.preprocessing.image import ImageDataGenerator\n",
    "from tensorflow.keras.layers import Dense, Input, Dropout,Flatten, Conv2D\n",
    "from tensorflow.keras.layers import BatchNormalization, Activation, MaxPooling2D\n",
    "from tensorflow.keras.models import Model, Sequential\n",
    "from tensorflow.keras.optimizers import Adam\n",
    "from tensorflow.keras.callbacks import ModelCheckpoint, ReduceLROnPlateau\n",
    "from tensorflow.keras.utils import plot_model\n",
    "from IPython.display import SVG, Image"
   ]
  },
  {
   "cell_type": "code",
   "execution_count": 2,
   "metadata": {
    "scrolled": true
   },
   "outputs": [
    {
     "name": "stdout",
     "output_type": "stream",
     "text": [
      "2016 Apple___Apple_scab images\n",
      "1987 Apple___Black_rot images\n",
      "1760 Apple___Cedar_apple_rust images\n",
      "2008 Apple___healthy images\n",
      "1816 Blueberry___healthy images\n",
      "1826 Cherry_(including_sour)___healthy images\n",
      "1683 Cherry_(including_sour)___Powdery_mildew images\n",
      "1642 Corn_(maize)___Cercospora_leaf_spot Gray_leaf_spot images\n",
      "1907 Corn_(maize)___Common_rust_ images\n",
      "1859 Corn_(maize)___healthy images\n",
      "1908 Corn_(maize)___Northern_Leaf_Blight images\n",
      "1888 Grape___Black_rot images\n",
      "1920 Grape___Esca_(Black_Measles) images\n",
      "1692 Grape___healthy images\n",
      "1722 Grape___Leaf_blight_(Isariopsis_Leaf_Spot) images\n",
      "2010 Orange___Haunglongbing_(Citrus_greening) images\n",
      "1838 Peach___Bacterial_spot images\n",
      "1728 Peach___healthy images\n",
      "1913 Pepper,_bell___Bacterial_spot images\n",
      "1988 Pepper,_bell___healthy images\n",
      "1939 Potato___Early_blight images\n",
      "1824 Potato___healthy images\n",
      "1939 Potato___Late_blight images\n",
      "1781 Raspberry___healthy images\n",
      "2022 Soybean___healthy images\n",
      "1736 Squash___Powdery_mildew images\n",
      "1824 Strawberry___healthy images\n",
      "1774 Strawberry___Leaf_scorch images\n",
      "1702 Tomato___Bacterial_spot images\n",
      "1920 Tomato___Early_blight images\n",
      "1926 Tomato___healthy images\n",
      "1851 Tomato___Late_blight images\n",
      "1882 Tomato___Leaf_Mold images\n",
      "1745 Tomato___Septoria_leaf_spot images\n",
      "1741 Tomato___Spider_mites Two-spotted_spider_mite images\n",
      "1827 Tomato___Target_Spot images\n",
      "1790 Tomato___Tomato_mosaic_virus images\n",
      "1961 Tomato___Tomato_Yellow_Leaf_Curl_Virus images\n"
     ]
    }
   ],
   "source": [
    "\n",
    "# For checking out that how many images are available in the train set we can use import OS\n",
    "for types in os.listdir(\"train/\"):\n",
    "    print(str(len(os.listdir(\"train/\"+ types)))+\" \"+ types+' images')"
   ]
  },
  {
   "cell_type": "code",
   "execution_count": 5,
   "metadata": {},
   "outputs": [
    {
     "ename": "NameError",
     "evalue": "name 'ImageDataGenerator' is not defined",
     "output_type": "error",
     "traceback": [
      "\u001b[1;31m---------------------------------------------------------------------------\u001b[0m",
      "\u001b[1;31mNameError\u001b[0m                                 Traceback (most recent call last)",
      "\u001b[1;32m<ipython-input-5-ae5b09081eaf>\u001b[0m in \u001b[0;36m<module>\u001b[1;34m\u001b[0m\n\u001b[0;32m      2\u001b[0m \u001b[0mimg_size\u001b[0m\u001b[1;33m=\u001b[0m\u001b[1;36m48\u001b[0m\u001b[1;33m\u001b[0m\u001b[1;33m\u001b[0m\u001b[0m\n\u001b[0;32m      3\u001b[0m \u001b[0mbatch_size\u001b[0m\u001b[1;33m=\u001b[0m\u001b[1;36m64\u001b[0m\u001b[1;33m\u001b[0m\u001b[1;33m\u001b[0m\u001b[0m\n\u001b[1;32m----> 4\u001b[1;33m \u001b[0mdatagen_train\u001b[0m\u001b[1;33m=\u001b[0m\u001b[0mImageDataGenerator\u001b[0m\u001b[1;33m(\u001b[0m\u001b[0mhorizontal_flip\u001b[0m\u001b[1;33m=\u001b[0m\u001b[1;32mTrue\u001b[0m\u001b[1;33m)\u001b[0m\u001b[1;33m\u001b[0m\u001b[1;33m\u001b[0m\u001b[0m\n\u001b[0m\u001b[0;32m      5\u001b[0m train_generator=datagen_train.flow_from_directory(\"train\",\n\u001b[0;32m      6\u001b[0m \u001b[0mtarget_size\u001b[0m\u001b[1;33m=\u001b[0m\u001b[1;33m(\u001b[0m\u001b[0mimg_size\u001b[0m\u001b[1;33m,\u001b[0m\u001b[0mimg_size\u001b[0m\u001b[1;33m)\u001b[0m\u001b[1;33m,\u001b[0m\u001b[1;33m\u001b[0m\u001b[1;33m\u001b[0m\u001b[0m\n",
      "\u001b[1;31mNameError\u001b[0m: name 'ImageDataGenerator' is not defined"
     ]
    }
   ],
   "source": [
    "\n",
    "# Complete Dataset images can be loaded using ImageDataGenerator function\n",
    "img_size=48\n",
    "batch_size=64\n",
    "datagen_train=ImageDataGenerator(horizontal_flip=True)\n",
    "train_generator=datagen_train.flow_from_directory(\"train\",\n",
    "target_size=(img_size,img_size),\n",
    "batch_size=batch_size,\n",
    "class_mode='categorical',\n",
    "shuffle=True)\n",
    "\n",
    "datagen_test=ImageDataGenerator(horizontal_flip=True)\n",
    "validation_generator=datagen_test.flow_from_directory(\"val\",\n",
    "target_size=(img_size,img_size),\n",
    "batch_size=batch_size,\n",
    "class_mode='categorical',\n",
    "shuffle=True)"
   ]
  },
  {
   "cell_type": "code",
   "execution_count": 19,
   "metadata": {},
   "outputs": [],
   "source": [
    "detection=Sequential()\n",
    "\n",
    "#1 -convolutional layer-1\n",
    "detection.add(Conv2D(64,(3,3),padding='same',input_shape=(48,48,3)))\n",
    "detection.add(BatchNormalization())\n",
    "detection.add(Activation('relu'))\n",
    "detection.add(MaxPooling2D(pool_size=(2,2)))\n",
    "detection.add(Dropout(0.25))\n",
    "\n",
    "#2 -convolutional layer-2\n",
    "detection.add(Conv2D(128,(5,5),padding='same'))\n",
    "detection.add(BatchNormalization())\n",
    "detection.add(Activation('relu'))\n",
    "detection.add(MaxPooling2D(pool_size=(2,2)))\n",
    "detection.add(Dropout(0.25))\n",
    "\n",
    "#3 -convolutional layer-3\n",
    "detection.add(Conv2D(512,(3,3),padding='same'))\n",
    "detection.add(BatchNormalization())\n",
    "detection.add(Activation('relu'))\n",
    "detection.add(MaxPooling2D(pool_size=(2,2)))\n",
    "detection.add(Dropout(0.25))\n",
    "\n",
    "#4 -convolutional layer-4\n",
    "detection.add(Conv2D(1024,(3,3),padding='same'))\n",
    "detection.add(BatchNormalization())\n",
    "detection.add(Activation('relu'))\n",
    "detection.add(MaxPooling2D(pool_size=(2,2)))\n",
    "detection.add(Dropout(0.25))\n",
    "\n",
    "detection.add(Flatten())\n",
    "detection.add(Dense(256))\n",
    "detection.add(BatchNormalization())\n",
    "detection.add(Activation('relu'))\n",
    "detection.add(Dropout(0.25))\n",
    "\n",
    "detection.add(Dense(512))\n",
    "detection.add(BatchNormalization())\n",
    "detection.add(Activation('relu'))\n",
    "detection.add(Dropout(0.25))\n",
    "\n",
    "detection.add(Dense(39,activation='softmax'))\n",
    "optimum=Adam(lr=0.005)\n",
    "detection.compile(optimizer=optimum,loss='categorical_crossentropy',metrics=['accuracy'])"
   ]
  },
  {
   "cell_type": "code",
   "execution_count": 20,
   "metadata": {},
   "outputs": [
    {
     "name": "stdout",
     "output_type": "stream",
     "text": [
      "Model: \"sequential_3\"\n",
      "_________________________________________________________________\n",
      "Layer (type)                 Output Shape              Param #   \n",
      "=================================================================\n",
      "conv2d_12 (Conv2D)           (None, 48, 48, 64)        1792      \n",
      "_________________________________________________________________\n",
      "batch_normalization_18 (Batc (None, 48, 48, 64)        256       \n",
      "_________________________________________________________________\n",
      "activation_18 (Activation)   (None, 48, 48, 64)        0         \n",
      "_________________________________________________________________\n",
      "max_pooling2d_12 (MaxPooling (None, 24, 24, 64)        0         \n",
      "_________________________________________________________________\n",
      "dropout_18 (Dropout)         (None, 24, 24, 64)        0         \n",
      "_________________________________________________________________\n",
      "conv2d_13 (Conv2D)           (None, 24, 24, 128)       204928    \n",
      "_________________________________________________________________\n",
      "batch_normalization_19 (Batc (None, 24, 24, 128)       512       \n",
      "_________________________________________________________________\n",
      "activation_19 (Activation)   (None, 24, 24, 128)       0         \n",
      "_________________________________________________________________\n",
      "max_pooling2d_13 (MaxPooling (None, 12, 12, 128)       0         \n",
      "_________________________________________________________________\n",
      "dropout_19 (Dropout)         (None, 12, 12, 128)       0         \n",
      "_________________________________________________________________\n",
      "conv2d_14 (Conv2D)           (None, 12, 12, 512)       590336    \n",
      "_________________________________________________________________\n",
      "batch_normalization_20 (Batc (None, 12, 12, 512)       2048      \n",
      "_________________________________________________________________\n",
      "activation_20 (Activation)   (None, 12, 12, 512)       0         \n",
      "_________________________________________________________________\n",
      "max_pooling2d_14 (MaxPooling (None, 6, 6, 512)         0         \n",
      "_________________________________________________________________\n",
      "dropout_20 (Dropout)         (None, 6, 6, 512)         0         \n",
      "_________________________________________________________________\n",
      "conv2d_15 (Conv2D)           (None, 6, 6, 1024)        4719616   \n",
      "_________________________________________________________________\n",
      "batch_normalization_21 (Batc (None, 6, 6, 1024)        4096      \n",
      "_________________________________________________________________\n",
      "activation_21 (Activation)   (None, 6, 6, 1024)        0         \n",
      "_________________________________________________________________\n",
      "max_pooling2d_15 (MaxPooling (None, 3, 3, 1024)        0         \n",
      "_________________________________________________________________\n",
      "dropout_21 (Dropout)         (None, 3, 3, 1024)        0         \n",
      "_________________________________________________________________\n",
      "flatten_3 (Flatten)          (None, 9216)              0         \n",
      "_________________________________________________________________\n",
      "dense_9 (Dense)              (None, 256)               2359552   \n",
      "_________________________________________________________________\n",
      "batch_normalization_22 (Batc (None, 256)               1024      \n",
      "_________________________________________________________________\n",
      "activation_22 (Activation)   (None, 256)               0         \n",
      "_________________________________________________________________\n",
      "dropout_22 (Dropout)         (None, 256)               0         \n",
      "_________________________________________________________________\n",
      "dense_10 (Dense)             (None, 512)               131584    \n",
      "_________________________________________________________________\n",
      "batch_normalization_23 (Batc (None, 512)               2048      \n",
      "_________________________________________________________________\n",
      "activation_23 (Activation)   (None, 512)               0         \n",
      "_________________________________________________________________\n",
      "dropout_23 (Dropout)         (None, 512)               0         \n",
      "_________________________________________________________________\n",
      "dense_11 (Dense)             (None, 39)                20007     \n",
      "=================================================================\n",
      "Total params: 8,037,799\n",
      "Trainable params: 8,032,807\n",
      "Non-trainable params: 4,992\n",
      "_________________________________________________________________\n"
     ]
    }
   ],
   "source": [
    "detection.summary()"
   ]
  },
  {
   "cell_type": "code",
   "execution_count": null,
   "metadata": {},
   "outputs": [
    {
     "name": "stdout",
     "output_type": "stream",
     "text": [
      "Epoch 1/50\n",
      " 19/687 [..............................] - ETA: 28:46 - loss: 3.5192 - accuracy: 0.1544"
     ]
    }
   ],
   "source": [
    "ephocs=10\n",
    "steps_per_epoch=train_generator.n//train_generator.batch_size\n",
    "steps_per_epoch\n",
    "validation_steps=validation_generator.n//validation_generator.batch_size\n",
    "validation_steps\n",
    "detection.fit(x=train_generator,\n",
    "                    steps_per_epoch=steps_per_epoch,\n",
    "                    epochs=ephocs,\n",
    "                    validation_data=validation_generator,\n",
    "                    validation_steps=validation_steps)\n",
    "detection.save('auto_chloro_model.h5')"
   ]
  },
  {
   "cell_type": "code",
   "execution_count": 8,
   "metadata": {},
   "outputs": [
    {
     "data": {
      "text/plain": [
       "'Tomato_Bacterial_spot'"
      ]
     },
     "execution_count": 8,
     "metadata": {},
     "output_type": "execute_result"
    },
    {
     "data": {
      "image/png": "[encoded data removed]",
      "text/plain": [
       "<Figure size 432x288 with 1 Axes>"
      ]
     },
     "metadata": {
      "needs_background": "light"
     },
     "output_type": "display_data"
    }
   ],
   "source": [
    "from tensorflow.keras.preprocessing import image\n",
    "from tensorflow.keras.models import load_model\n",
    "\n",
    "test_img=image.load_img(\"tbs.JPG\",target_size=(48,48))\n",
    "plt.imshow(test_img)\n",
    "test_img=image.img_to_array(test_img)\n",
    "test_img=np.expand_dims(test_img,axis=0)\n",
    "result=detection.predict(test_img)\n",
    "a=result.argmax()\n",
    "classes=train_generator.class_indices\n",
    "category=[]\n",
    "for i in classes:\n",
    "          category.append(i)\n",
    "for i in range(len(classes)):\n",
    "           if(i==a):\n",
    "                output=category[i]\n",
    "output  "
   ]
  },
  {
   "cell_type": "code",
   "execution_count": null,
   "metadata": {},
   "outputs": [],
   "source": []
  }
 ],
 "metadata": {
  "kernelspec": {
   "display_name": "Python 3",
   "language": "python",
   "name": "python3"
  },
  "language_info": {
   "codemirror_mode": {
    "name": "ipython",
    "version": 3
   },
   "file_extension": ".py",
   "mimetype": "text/x-python",
   "name": "python",
   "nbconvert_exporter": "python",
   "pygments_lexer": "ipython3",
   "version": "3.9.2"
  }
 },
 "nbformat": 4,
 "nbformat_minor": 4
}
